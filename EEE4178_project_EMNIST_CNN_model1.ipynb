{
  "nbformat": 4,
  "nbformat_minor": 0,
  "metadata": {
    "colab": {
      "name": "project_20161147.ipynb",
      "provenance": [],
      "collapsed_sections": []
    },
    "kernelspec": {
      "name": "python3",
      "display_name": "Python 3"
    },
    "accelerator": "GPU"
  },
  "cells": [
    {
      "cell_type": "code",
      "metadata": {
        "colab": {
          "base_uri": "https://localhost:8080/"
        },
        "id": "3xM2YDotjd3y",
        "outputId": "fb05b2f1-6628-4ecd-a59f-7f61e2f08401"
      },
      "source": [
        "!nvidia-smi"
      ],
      "execution_count": 11,
      "outputs": [
        {
          "output_type": "stream",
          "text": [
            "Fri Dec 11 09:16:25 2020       \n",
            "+-----------------------------------------------------------------------------+\n",
            "| NVIDIA-SMI 455.45.01    Driver Version: 418.67       CUDA Version: 10.1     |\n",
            "|-------------------------------+----------------------+----------------------+\n",
            "| GPU  Name        Persistence-M| Bus-Id        Disp.A | Volatile Uncorr. ECC |\n",
            "| Fan  Temp  Perf  Pwr:Usage/Cap|         Memory-Usage | GPU-Util  Compute M. |\n",
            "|                               |                      |               MIG M. |\n",
            "|===============================+======================+======================|\n",
            "|   0  Tesla V100-SXM2...  Off  | 00000000:00:04.0 Off |                    0 |\n",
            "| N/A   34C    P0    40W / 300W |   1261MiB / 16130MiB |      0%      Default |\n",
            "|                               |                      |                 ERR! |\n",
            "+-------------------------------+----------------------+----------------------+\n",
            "                                                                               \n",
            "+-----------------------------------------------------------------------------+\n",
            "| Processes:                                                                  |\n",
            "|  GPU   GI   CI        PID   Type   Process name                  GPU Memory |\n",
            "|        ID   ID                                                   Usage      |\n",
            "|=============================================================================|\n",
            "|  No running processes found                                                 |\n",
            "+-----------------------------------------------------------------------------+\n"
          ],
          "name": "stdout"
        }
      ]
    },
    {
      "cell_type": "code",
      "metadata": {
        "id": "Co2ptHpiiu2L"
      },
      "source": [
        "import torch\n",
        "import torchvision\n",
        "import torchvision.transforms as transforms\n",
        "from torch.utils.data import Dataset\n",
        "import matplotlib.pyplot as plt\n",
        "import numpy as np\n",
        "import random\n",
        " \n",
        "import torch.nn as nn\n",
        "import torch.nn.functional as F\n",
        " \n",
        "import time"
      ],
      "execution_count": 12,
      "outputs": []
    },
    {
      "cell_type": "markdown",
      "metadata": {
        "id": "2rGl6Ssviu2P"
      },
      "source": [
        "# 0-1. Set Hyper Parameters (Model1)"
      ]
    },
    {
      "cell_type": "code",
      "metadata": {
        "id": "GM8mN-bqiu2P"
      },
      "source": [
        "device = torch.device('cuda' if torch.cuda.is_available() else 'cpu')\n",
        "trial = 35\n",
        "# Hyper parameters\n",
        "batch_size = 128\n",
        "num_epochs = 6\n",
        "\n",
        "num_classes = 2\n",
        "out1 = 64\n",
        "kernel = 5\n",
        "padding = 2\n",
        "out2 = 128\n",
        "out3 = 512\n",
        "out4 = 64\n",
        "drop1 = 0\n",
        "drop2 = 0\n",
        "out5 = 256\n",
        "drop3 = 0"
      ],
      "execution_count": 13,
      "outputs": []
    },
    {
      "cell_type": "markdown",
      "metadata": {
        "id": "1uRyjQMdiu2P"
      },
      "source": [
        "# 1-1. Load Data (Model1)"
      ]
    },
    {
      "cell_type": "code",
      "metadata": {
        "id": "15W-HzXQiu2Q"
      },
      "source": [
        "class TypeData(Dataset):\n",
        "  '''\n",
        "### Digit일 경우 label로 0을, ###\n",
        "### Letter일 경우 label로 1을 ###\n",
        "### return하는 class입니다. ###\n",
        "사용 예시:\n",
        "train_data = TypeData(train=True)\n",
        "test_data = TypeData(train=False)\n",
        "  '''\n",
        "  def __init__(self,train):\n",
        "    super(TypeData, self).__init__()\n",
        "    self.digit = 10\n",
        "    self.letter = 46\n",
        "    self.train = train\n",
        "\n",
        "    self.data = torchvision.datasets.EMNIST(root='./',\n",
        "                                        split='bymerge',\n",
        "                                        train=self.train,\n",
        "                                        transform=transforms.Compose([transforms.ToTensor()]),\n",
        "                                        download=True)\n",
        "\n",
        "  def __getitem__(self, index):\n",
        "    if self.data[index][1] < self.digit:\n",
        "      label = 0.\n",
        "    else:\n",
        "      label = 1.\n",
        "    return self.data[index][0], label\n",
        "\n",
        "  def __len__(self):\n",
        "    return len(self.data)"
      ],
      "execution_count": 14,
      "outputs": []
    },
    {
      "cell_type": "code",
      "metadata": {
        "id": "j4K5DYeuiu2Q"
      },
      "source": [
        "dataset = TypeData(train=True)\n",
        "train_data, val_data = torch.utils.data.random_split(dataset, [int(len(dataset)*0.9)+1, int(len(dataset)*0.1)])\n",
        "test_data = TypeData(train=False)"
      ],
      "execution_count": 15,
      "outputs": []
    },
    {
      "cell_type": "markdown",
      "metadata": {
        "id": "qN3AU1gZiu2Q"
      },
      "source": [
        "# 2-1. Define DataLoader"
      ]
    },
    {
      "cell_type": "code",
      "metadata": {
        "id": "RV1-iqzUiu2Q"
      },
      "source": [
        "train_loader = torch.utils.data.DataLoader(dataset=train_data,\n",
        "                                           batch_size=batch_size,\n",
        "                                           shuffle=True)\n",
        "\n",
        "val_loader = torch.utils.data.DataLoader(dataset=val_data,\n",
        "                                           batch_size=batch_size,\n",
        "                                           shuffle=True)\n",
        "\n",
        "test_loader = torch.utils.data.DataLoader(dataset=test_data,\n",
        "                                          batch_size=batch_size,\n",
        "                                          shuffle=False)"
      ],
      "execution_count": 16,
      "outputs": []
    },
    {
      "cell_type": "markdown",
      "metadata": {
        "id": "oMG4d0xeiu2R"
      },
      "source": [
        "# 3-1. Define Model1"
      ]
    },
    {
      "cell_type": "code",
      "metadata": {
        "id": "bF8-IYD4iu2R"
      },
      "source": [
        "class Model1(nn.Module):\n",
        "  def __init__(self, num_classes, out1, kernel, padding, out2, out3, out4, drop1, drop2, out5, drop3):\n",
        "    super(Model1, self).__init__()\n",
        "    self.num_classes = num_classes\n",
        "    self.out1 = out1\n",
        "    self.kernel = kernel\n",
        "    self.padding = padding\n",
        "    self.out2 = out2\n",
        "    self.out3 = out3\n",
        "    self.out4 = out4\n",
        "    self.drop1 = drop1\n",
        "    self.drop2 = drop2\n",
        "    self.out5 = out5\n",
        "    self.drop3 = drop3\n",
        "\n",
        "    self.cnn1 = nn.Sequential(\n",
        "        nn.Conv2d(in_channels=1, out_channels=out1, kernel_size=kernel+4, stride=1, padding=padding+2),\n",
        "        nn.Dropout(drop1),\n",
        "        nn.BatchNorm2d(out1),\n",
        "        nn.ReLU(),\n",
        "        nn.MaxPool2d(kernel_size=2, stride=2),\n",
        "    )\n",
        "\n",
        "    self.cnn2 = nn.Sequential(\n",
        "        nn.Conv2d(in_channels=out1, out_channels=out2, kernel_size=kernel, stride=1, padding=padding),\n",
        "        nn.Dropout(drop2),\n",
        "        nn.BatchNorm2d(out2),\n",
        "        nn.ReLU(),\n",
        "        nn.MaxPool2d(kernel_size=2, stride=2),\n",
        "    )\n",
        "\n",
        "    self.cnn3 = nn.Sequential(\n",
        "        nn.Conv2d(in_channels=out2, out_channels=out5, kernel_size=kernel-2, stride=1, padding=padding-1),\n",
        "        nn.Dropout(drop3),\n",
        "        nn.BatchNorm2d(out5),\n",
        "        nn.ReLU(),\n",
        "        nn.MaxPool2d(kernel_size=2, stride=2),\n",
        "    )\n",
        "    \n",
        "    # compute image size after max pooling\n",
        "    def downsize(input_size, padding, kernel):\n",
        "      return (input_size+(padding*2)-kernel+1)//2\n",
        "    s = downsize(28, padding+2, kernel+4) # image size after max pooling of CNN1\n",
        "    s = downsize(s, padding, kernel) # image size after max pooling of CNN2\n",
        "    s = downsize(s, padding-1, kernel-2) # image size after max pooling of CNN3\n",
        "    self.fc1 = nn.Sequential(\n",
        "        nn.Linear(s*s*out5, out3),\n",
        "        nn.BatchNorm1d(out3)\n",
        "    )\n",
        "    self.fc2 = nn.Sequential(\n",
        "        nn.Linear(out3, out4),\n",
        "        nn.BatchNorm1d(out4)\n",
        "    )\n",
        "    self.fc3 = nn.Linear(out4, 1)\n",
        "\n",
        "  def forward(self, x):\n",
        "    # comment: tensor size after passing trough each layer\n",
        "    x = self.cnn1(x) # 128x64x14x14(batch size x num output x wide x height)\n",
        "    x = self.cnn2(x) # 128x128x7x7 (batch size x num output x wide x height)\n",
        "    x = self.cnn3(x) # 128x256x3x3\n",
        "    x = x.reshape(x.size(0), -1) # 128x(256x3x3) (batch size x (num output x wide x height))\n",
        "    x = F.relu(self.fc1(x)) # 128x512 (batch size x num output)\n",
        "    x = F.relu(self.fc2(x)) # 128x64 (batch size x num output)\n",
        "    x = torch.sigmoid(self.fc3(x)) # 128x1 (batch size x num output)\n",
        "    return x"
      ],
      "execution_count": 17,
      "outputs": []
    },
    {
      "cell_type": "code",
      "metadata": {
        "id": "zMKTMKP5iu2R"
      },
      "source": [
        "model1 = Model1(num_classes, out1, kernel, padding, out2, out3, out4, drop1, drop2, out5, drop3).to(device)"
      ],
      "execution_count": null,
      "outputs": []
    },
    {
      "cell_type": "code",
      "metadata": {
        "colab": {
          "base_uri": "https://localhost:8080/"
        },
        "id": "bUYVNiJNiu2S",
        "outputId": "4463766a-0e2d-4f68-b8d0-60ccdaac1bc3"
      },
      "source": [
        "print(model1)"
      ],
      "execution_count": null,
      "outputs": [
        {
          "output_type": "stream",
          "text": [
            "Model1(\n",
            "  (cnn1): Sequential(\n",
            "    (0): Conv2d(1, 64, kernel_size=(9, 9), stride=(1, 1), padding=(4, 4))\n",
            "    (1): Dropout(p=0, inplace=False)\n",
            "    (2): BatchNorm2d(64, eps=1e-05, momentum=0.1, affine=True, track_running_stats=True)\n",
            "    (3): ReLU()\n",
            "    (4): MaxPool2d(kernel_size=2, stride=2, padding=0, dilation=1, ceil_mode=False)\n",
            "  )\n",
            "  (cnn2): Sequential(\n",
            "    (0): Conv2d(64, 128, kernel_size=(5, 5), stride=(1, 1), padding=(2, 2))\n",
            "    (1): Dropout(p=0, inplace=False)\n",
            "    (2): BatchNorm2d(128, eps=1e-05, momentum=0.1, affine=True, track_running_stats=True)\n",
            "    (3): ReLU()\n",
            "    (4): MaxPool2d(kernel_size=2, stride=2, padding=0, dilation=1, ceil_mode=False)\n",
            "  )\n",
            "  (cnn3): Sequential(\n",
            "    (0): Conv2d(128, 256, kernel_size=(3, 3), stride=(1, 1), padding=(1, 1))\n",
            "    (1): Dropout(p=0, inplace=False)\n",
            "    (2): BatchNorm2d(256, eps=1e-05, momentum=0.1, affine=True, track_running_stats=True)\n",
            "    (3): ReLU()\n",
            "    (4): MaxPool2d(kernel_size=2, stride=2, padding=0, dilation=1, ceil_mode=False)\n",
            "  )\n",
            "  (fc1): Sequential(\n",
            "    (0): Linear(in_features=2304, out_features=512, bias=True)\n",
            "    (1): BatchNorm1d(512, eps=1e-05, momentum=0.1, affine=True, track_running_stats=True)\n",
            "  )\n",
            "  (fc2): Sequential(\n",
            "    (0): Linear(in_features=512, out_features=64, bias=True)\n",
            "    (1): BatchNorm1d(64, eps=1e-05, momentum=0.1, affine=True, track_running_stats=True)\n",
            "  )\n",
            "  (fc3): Linear(in_features=64, out_features=1, bias=True)\n",
            ")\n"
          ],
          "name": "stdout"
        }
      ]
    },
    {
      "cell_type": "markdown",
      "metadata": {
        "id": "QyHR1A5Hiu2T"
      },
      "source": [
        "# 4-1. Define Loss / Optimizer (Model1)"
      ]
    },
    {
      "cell_type": "code",
      "metadata": {
        "id": "Lyklta2Wiu2T"
      },
      "source": [
        "learning_rate = 0.0006\n",
        "\n",
        "criterion = nn.BCELoss()\n",
        "optimizer = torch.optim.Adam(model1.parameters(), lr=learning_rate)"
      ],
      "execution_count": null,
      "outputs": []
    },
    {
      "cell_type": "markdown",
      "metadata": {
        "id": "ej3Epk0Miu2U"
      },
      "source": [
        "# 5-1. Train (Model1)"
      ]
    },
    {
      "cell_type": "code",
      "metadata": {
        "colab": {
          "base_uri": "https://localhost:8080/"
        },
        "id": "0aJdK7hFiu2U",
        "outputId": "3577086c-a241-447e-b6ac-faac2fe156ba"
      },
      "source": [
        "print(f'시행 {trial} train')\r\n",
        "t1 = time.time()\r\n",
        "\r\n",
        "train_loss_list = []\r\n",
        "train_accuracy_list = []\r\n",
        "validation_loss_list = []\r\n",
        "validation_accuracy_list = []\r\n",
        "\r\n",
        "for epoch in range(num_epochs):\r\n",
        "  running_loss = 0\r\n",
        "  right = 0 # the number of right prediction\r\n",
        "  for i, (img, lbl) in enumerate(train_loader):\r\n",
        "    img = img.to(device)\r\n",
        "    lbl = lbl.reshape(lbl.size(0),1).float().to(device)\r\n",
        "\r\n",
        "    # Forward\r\n",
        "    out = model1(img).to(device)\r\n",
        "\r\n",
        "    # Get Loss / Compute Gradient / Update Parameters\r\n",
        "    loss = criterion(out, lbl)\r\n",
        "    optimizer.zero_grad()\r\n",
        "    loss.backward()\r\n",
        "    optimizer.step()\r\n",
        "\r\n",
        "    # sum training loss and right prediction\r\n",
        "    running_loss += loss.item()\r\n",
        "    right += (torch.round(out)==lbl).sum().item()\r\n",
        "\r\n",
        "    # validation checking for end of each epoch\r\n",
        "    if (i+1)==len(train_loader):\r\n",
        "\r\n",
        "      # Compute Train Accuracy and Loss\r\n",
        "      train_acc = right/len(train_data) # mean of right prediction\r\n",
        "      train_loss = running_loss/len(train_loader) # mean of running loss\r\n",
        "\r\n",
        "      # Compute Validation Loss & Accuracy\r\n",
        "      with torch.no_grad():\r\n",
        "        val_right = 0\r\n",
        "        val_loss = 0\r\n",
        "        for v, (val_img, val_lbl) in enumerate(val_loader):\r\n",
        "          val_img = val_img.to(device)\r\n",
        "          val_lbl = val_lbl.reshape(val_lbl.size(0),1).float().to(device)\r\n",
        "\r\n",
        "          val_out = model1(val_img)\r\n",
        "          val_loss += criterion(val_out, val_lbl).item()\r\n",
        "\r\n",
        "          val_pred = torch.round(val_out)\r\n",
        "          val_right += (val_pred==val_lbl).sum().item()\r\n",
        "        val_loss = val_loss / len(val_loader)\r\n",
        "        val_acc = val_right / len(val_data)\r\n",
        "      \r\n",
        "      # Check Loss & Accuracy\r\n",
        "      print(f'Epoch: [{epoch+1}/{num_epochs}] Step: [{i+1}/{len(train_loader)}], ', end='')\r\n",
        "      print(f'Train Loss: {train_loss:.4f}, Train Accuracy: {train_acc*100:.4f}%, Validation Loss: {val_loss:.4f}, Validation Accuracy: {val_acc*100:.4f}%', end=' ')\r\n",
        "      print(f'걸린 시간: {time.time()-t1:.4f}초')\r\n",
        "  train_loss_list.append(train_loss)\r\n",
        "  train_accuracy_list.append(train_acc)\r\n",
        "  validation_loss_list.append(val_loss)\r\n",
        "  validation_accuracy_list.append(val_acc)\r\n",
        "\r\n",
        "t2 = time.time()\r\n",
        "print(f'걸린 시간: {t2-t1:.4f}초')"
      ],
      "execution_count": null,
      "outputs": [
        {
          "output_type": "stream",
          "text": [
            "시행 35 train\n",
            "Epoch: [1/6] Step: [4908/4908], Train Loss: 0.1959, Train Accuracy: 91.1679%, Validation Loss: 0.1702, Validation Accuracy: 92.2700% 걸린 시간: 140.8934초\n",
            "Epoch: [2/6] Step: [4908/4908], Train Loss: 0.1654, Train Accuracy: 92.4692%, Validation Loss: 0.1642, Validation Accuracy: 92.5465% 걸린 시간: 281.8027초\n",
            "Epoch: [3/6] Step: [4908/4908], Train Loss: 0.1564, Train Accuracy: 92.8516%, Validation Loss: 0.1595, Validation Accuracy: 92.8102% 걸린 시간: 423.7344초\n",
            "Epoch: [4/6] Step: [4908/4908], Train Loss: 0.1497, Train Accuracy: 93.1267%, Validation Loss: 0.1560, Validation Accuracy: 92.9019% 걸린 시간: 565.7091초\n",
            "Epoch: [5/6] Step: [4908/4908], Train Loss: 0.1438, Train Accuracy: 93.3733%, Validation Loss: 0.1598, Validation Accuracy: 92.6683% 걸린 시간: 707.6412초\n",
            "Epoch: [6/6] Step: [4908/4908], Train Loss: 0.1389, Train Accuracy: 93.5618%, Validation Loss: 0.1565, Validation Accuracy: 92.9678% 걸린 시간: 851.0220초\n",
            "걸린 시간: 851.0222초\n"
          ],
          "name": "stdout"
        }
      ]
    },
    {
      "cell_type": "markdown",
      "metadata": {
        "id": "wFOIC71Tiu2U"
      },
      "source": [
        "## 5-1-2. Plot Accuracy & Loss"
      ]
    },
    {
      "cell_type": "code",
      "metadata": {
        "colab": {
          "base_uri": "https://localhost:8080/",
          "height": 573
        },
        "id": "SXnWQRAbiu2V",
        "outputId": "74cd53cd-58e7-4d60-f822-39e6ab6589df"
      },
      "source": [
        "plt.plot(np.arange(1, num_epochs+1), train_accuracy_list, \r\n",
        "         label='Train Accuracy', marker='o', color='dodgerblue')\r\n",
        "plt.plot(np.arange(1, num_epochs+1), validation_accuracy_list, \r\n",
        "         label='Validation Accuracy', marker='o', color='gold')\r\n",
        "plt.legend()\r\n",
        "plt.title('Train & Validation Accuracy')\r\n",
        "plt.xlabel('Epoch')\r\n",
        "plt.xticks(ticks=np.arange(1,num_epochs+1), label=np.arange(1,num_epochs+1))\r\n",
        "plt.ylabel('Accuracy')\r\n",
        "# plt.savefig(f'/content/drive/MyDrive/Colab Notebooks/모델1/accuracy_{trial}.png')\r\n",
        "plt.show()\r\n",
        "\r\n",
        "plt.plot(np.arange(1, num_epochs+1), train_loss_list, \r\n",
        "         label='Train Loss', marker='o', color='dodgerblue')\r\n",
        "plt.plot(np.arange(1, num_epochs+1), validation_loss_list, \r\n",
        "         label='Validation Loss', marker='o', color='gold')\r\n",
        "plt.legend()\r\n",
        "plt.title('Train & Validation Loss')\r\n",
        "plt.xlabel('Epoch')\r\n",
        "plt.xticks(ticks=np.arange(1,num_epochs+1), label=np.arange(1,num_epochs+1))\r\n",
        "plt.ylabel('Loss')\r\n",
        "plt.title('Train & Validation Loss')\r\n",
        "# plt.savefig(f'/content/drive/MyDrive/Colab Notebooks/모델1/loss_{trial}.png')\r\n",
        "plt.show()"
      ],
      "execution_count": null,
      "outputs": [
        {
          "output_type": "display_data",
          "data": {
            "image/png": "[encoded data removed]",
            "text/plain": [
              "<Figure size 432x288 with 1 Axes>"
            ]
          },
          "metadata": {
            "tags": [],
            "needs_background": "light"
          }
        },
        {
          "output_type": "display_data",
          "data": {
            "image/png": "[encoded data removed]",
            "text/plain": [
              "<Figure size 432x288 with 1 Axes>"
            ]
          },
          "metadata": {
            "tags": [],
            "needs_background": "light"
          }
        }
      ]
    },
    {
      "cell_type": "markdown",
      "metadata": {
        "id": "lSv5P5_Aiu2V"
      },
      "source": [
        "# 6-1. Test (Model1)"
      ]
    },
    {
      "cell_type": "code",
      "metadata": {
        "colab": {
          "base_uri": "https://localhost:8080/"
        },
        "id": "YVO1oOV2iu2V",
        "outputId": "1c44094f-24c5-45ec-d652-e4a49aee141a"
      },
      "source": [
        "test_acc = 0\n",
        "with torch.no_grad():\n",
        "  for i, (img, lbl) in enumerate(test_loader):\n",
        "    img = img.to(device)\n",
        "    lbl = lbl.reshape(lbl.size(0), 1).float().to(device)\n",
        "\n",
        "    pred = model1(img)\n",
        "    pred = torch.round(pred)\n",
        "\n",
        "    test_acc += (pred==lbl).sum().item() / len(lbl)\n",
        "  test_acc /= len(test_loader)\n",
        "  print(f'Test Accuracy of Model1 on the {len(test_data)} images: {test_acc*100:.2f}%')"
      ],
      "execution_count": null,
      "outputs": [
        {
          "output_type": "stream",
          "text": [
            "Test Accuracy of Model1 on the 116323 images: 93.05%\n"
          ],
          "name": "stdout"
        }
      ]
    },
    {
      "cell_type": "markdown",
      "metadata": {
        "id": "oTnD9g6qiu2W"
      },
      "source": [
        "# 7-1. Save Model1"
      ]
    },
    {
      "cell_type": "code",
      "metadata": {
        "id": "N8uAF9JLiu2W"
      },
      "source": [
        "torch.save(model1.state_dict(), 'model1.pth')"
      ],
      "execution_count": null,
      "outputs": []
    },
    {
      "cell_type": "markdown",
      "metadata": {
        "id": "GvCfW9gniu2W"
      },
      "source": [
        "# 8-1. Load Model1"
      ]
    },
    {
      "cell_type": "code",
      "metadata": {
        "colab": {
          "base_uri": "https://localhost:8080/"
        },
        "id": "hq2Wcg8yiu2W",
        "outputId": "f5a1c8b1-930d-46af-9f9a-eee67e7aa532"
      },
      "source": [
        "# 시행35 최종 선정 model hyper parameters\r\n",
        "batch_size = 128\r\n",
        "num_classes = 2\r\n",
        "out1 = 64\r\n",
        "kernel = 5\r\n",
        "padding = 2\r\n",
        "out2 = 128\r\n",
        "out3 = 512\r\n",
        "out4 = 64\r\n",
        "drop1 = 0\r\n",
        "drop2 = 0\r\n",
        "out5 = 256\r\n",
        "drop3 = 0\r\n",
        "\r\n",
        "loaded_model1 = Model1(num_classes, out1, kernel, padding, out2, out3, out4, drop1, drop2, out5, drop3).to(device)\r\n",
        "loaded_model1.load_state_dict(torch.load('model1.pth'))"
      ],
      "execution_count": 18,
      "outputs": [
        {
          "output_type": "execute_result",
          "data": {
            "text/plain": [
              "<All keys matched successfully>"
            ]
          },
          "metadata": {
            "tags": []
          },
          "execution_count": 18
        }
      ]
    },
    {
      "cell_type": "markdown",
      "metadata": {
        "id": "9Y0BrI4i7-Nh"
      },
      "source": [
        "# 9-1. Test with Loaded Model1"
      ]
    },
    {
      "cell_type": "code",
      "metadata": {
        "id": "rG7EDgHT79qj",
        "colab": {
          "base_uri": "https://localhost:8080/"
        },
        "outputId": "b568d59f-01f0-4cb6-c1b0-9657daacfe93"
      },
      "source": [
        "test_acc = 0\r\n",
        "with torch.no_grad():\r\n",
        "  for i, (img, lbl) in enumerate(test_loader):\r\n",
        "    img = img.to(device)\r\n",
        "    lbl = lbl.reshape(lbl.size(0), 1).float().to(device)\r\n",
        "\r\n",
        "    pred = loaded_model1(img)\r\n",
        "    pred = torch.round(pred)\r\n",
        "\r\n",
        "    test_acc += (pred==lbl).sum().item() / len(lbl)\r\n",
        "  test_acc /= len(test_loader)\r\n",
        "  print(f'Test Accuracy of Model1 on the {len(test_data)} images: {test_acc*100:.2f}%')"
      ],
      "execution_count": 19,
      "outputs": [
        {
          "output_type": "stream",
          "text": [
            "Test Accuracy of Model1 on the 116323 images: 93.05%\n"
          ],
          "name": "stdout"
        }
      ]
    },
    {
      "cell_type": "code",
      "metadata": {
        "id": "d8VMMQmh2ra0"
      },
      "source": [
        ""
      ],
      "execution_count": null,
      "outputs": []
    }
  ]
}