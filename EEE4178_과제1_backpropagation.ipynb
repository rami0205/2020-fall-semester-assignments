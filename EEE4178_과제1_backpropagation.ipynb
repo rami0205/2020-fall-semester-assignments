{
 "cells": [
  {
   "cell_type": "markdown",
   "metadata": {},
   "source": [
    "인공지능개론 #Homework 1\n",
    "=======\n",
    "간단한 XOR Table을 학습하는 NN 을 구성하는 문제입니다.\n",
    "\n",
    "-  1-Layer, 2-Layer model을 각각 구성하여 XOR 결과를 비교합니다.\n",
    "- 1-Layer, 2-Layer의 model을 Back propagation을 이용하여 학습시킵니다.\n",
    "-  주어진 양식을 활용해 주시며, scale, 차원의 순서, hyper parameter등은 결과가 잘 나오는 방향으로 Tuning하셔도 무방합니다.\n",
    "-  Layer의 Activation 함수 Sigmoid는 5번째 셀(cell)의 함수를 사용하시면 됩니다.\n",
    "-  결과 재현을 위해 Weight,bias 값을 저장하여 함께 첨부해 주시기 바랍니다.\n",
    "-  각 모델에서 loss 그래프와 testing step을 첨부하여 간단하게 자유 양식 결과 보고서(2~3장 내외)로 작성해 주세요.\n",
    "\n",
    "\n",
    "* python으로 코드를 작성하는 경우, 양식에서 활용하는 라이브러리 외에 추가로 import 하여 사용하실 수 없습니다."
   ]
  },
  {
   "cell_type": "markdown",
   "metadata": {},
   "source": [
    "# 1-layer / 2-layer 공통 부분"
   ]
  },
  {
   "cell_type": "code",
   "execution_count": 1,
   "metadata": {},
   "outputs": [],
   "source": [
    "## 이 외에 추가 라이브러리 사용 금지\n",
    "import numpy as np\n",
    "import random\n",
    "import matplotlib.pyplot as plt\n",
    "%matplotlib inline"
   ]
  },
  {
   "cell_type": "code",
   "execution_count": 2,
   "metadata": {},
   "outputs": [],
   "source": [
    "# Hyper parameters\n",
    "# 학습의 횟수와 Gradient update에 쓰이는 learning rate입니다.\n",
    "# 다른 값을 사용하여도 무방합니다.\n",
    "\n",
    "epochs = 10000\n",
    "learning_rate = 0.2"
   ]
  },
  {
   "cell_type": "code",
   "execution_count": 3,
   "metadata": {},
   "outputs": [],
   "source": [
    "# Input data setting\n",
    "# XOR data \n",
    "# 입력 데이터들, XOR Table 에 맞게 정의되어 있습니다.\n",
    "train_inp = np.array([[1, 1], [1, 0], [0, 1], [0, 0]])\n",
    "train_out = np.array([0, 1, 1, 0])"
   ]
  },
  {
   "cell_type": "code",
   "execution_count": 4,
   "metadata": {},
   "outputs": [],
   "source": [
    "##-----------------------------------##\n",
    "##------- Activation Function -------##\n",
    "##-----------------------------------##\n",
    "\n",
    "def sigmoid(x):\n",
    "    return 1 / (np.exp(-x)+1)\n"
   ]
  },
  {
   "cell_type": "markdown",
   "metadata": {},
   "source": [
    "# 1-layer 학습"
   ]
  },
  {
   "cell_type": "code",
   "execution_count": 5,
   "metadata": {},
   "outputs": [],
   "source": [
    "# Weight Setting\n",
    "# 학습에 사용되는 Weigth 들의 초기값을 선언\n",
    "\n",
    "np.random.seed(20161147)\n",
    "W1 = np.random.randn(2,1)\n",
    "b1 = np.random.randn(1,1)"
   ]
  },
  {
   "cell_type": "code",
   "execution_count": 6,
   "metadata": {
    "scrolled": true
   },
   "outputs": [
    {
     "name": "stdout",
     "output_type": "stream",
     "text": [
      "epoch[0/10000] loss: 3.0966\n",
      "epoch[1000/10000] loss: 2.9886\n",
      "epoch[2000/10000] loss: 2.9886\n",
      "epoch[3000/10000] loss: 2.9886\n",
      "epoch[4000/10000] loss: 2.9886\n",
      "epoch[5000/10000] loss: 2.9886\n",
      "epoch[6000/10000] loss: 2.9886\n",
      "epoch[7000/10000] loss: 2.9886\n",
      "epoch[8000/10000] loss: 2.9886\n",
      "epoch[9000/10000] loss: 2.9886\n"
     ]
    }
   ],
   "source": [
    "# ----------------------------------- #\n",
    "# --------- Training Step ----------- #\n",
    "# ----------------------------------- #\n",
    "# 학습이 시작됩니다.\n",
    "# epoch 사이즈만큼 for 문을 통해 학습됩니다.\n",
    "# 빈 칸을 채워 Weight과 bias를 학습하는 신경망을 설계하세요.\n",
    "# 양식의 모든 내용을 무조건 따를 필요는 없습니다. 각자에게 편하게 수정하셔도 좋습니다.\n",
    "\n",
    "errors = []\n",
    "for epoch in range(epochs):\n",
    "        \n",
    "    # 데이터 4가지 중 랜덤으로 하나 선택\n",
    "    loss = 0\n",
    "    for batch in range(4):\n",
    "        idx = random.randint(0,3)\n",
    "        idx = batch\n",
    "\n",
    "        # 입력 데이터 xin과 해당하는 정답 ans 불러오기\n",
    "        xin = train_inp[idx].reshape(1,2)\n",
    "        ans = train_out[idx]\n",
    "        \n",
    "        # Layer에 맞는 Forward Network 구성\n",
    "        net_y = xin.dot(W1)+b1\n",
    "        out_y = sigmoid(net_y)\n",
    "\n",
    "        # Binary Corss Entropy(BCE)로 loss 계산\n",
    "        J = -np.log((out_y**ans) * (1-out_y)**(1-ans))[0,0]\n",
    "        loss += J\n",
    "        \n",
    "        # Back propagation을 통한 Weight의 Gradient update step\n",
    "#         delta_W1 = (-(ans - out_y)*out_y*(1-out_y)*xin).T\n",
    "#         delta_b1 = (-(ans - out_y)*out_y*(1-out_y)).T\n",
    "#         delta_W1 = -(ans*(1-out_y) - (1-ans)*(out_y)).dot(xin).T\n",
    "#         delta_b1 = -(ans*(1-out_y) - (1-ans)*(out_y)).T\n",
    "        delta_W1 = -((ans/out_y + (1-ans)/(out_y-1))*out_y*(1-out_y)*xin).T\n",
    "        delta_b1 = -((ans/out_y + (1-ans)/(out_y-1))*out_y*(1-out_y)).T\n",
    "        \n",
    "#         # 각 weight의 update 반영\n",
    "        W1 = W1 - learning_rate * delta_W1\n",
    "        b1 = b1 - learning_rate * delta_b1\n",
    "        \n",
    "        # 1000번째 epoch마다 loss를 프린트 합니다.\n",
    "    if epoch%1000 == 0:\n",
    "        print(\"epoch[{}/{}] loss: {:.4f}\".format(epoch,epochs,float(loss)))\n",
    "        \n",
    "\n",
    "    errors.append(loss)\n"
   ]
  },
  {
   "cell_type": "code",
   "execution_count": 7,
   "metadata": {},
   "outputs": [
    {
     "data": {
      "text/plain": [
       "Text(0, 0.5, 'loss')"
      ]
     },
     "execution_count": 7,
     "metadata": {},
     "output_type": "execute_result"
    },
    {
     "data": {
      "image/png": "[encoded data removed]",
      "text/plain": [
       "<Figure size 432x288 with 1 Axes>"
      ]
     },
     "metadata": {
      "needs_background": "light"
     },
     "output_type": "display_data"
    }
   ],
   "source": [
    "## 학습이 끝난 후, loss를 확인합니다.\n",
    "loss =  np.array(errors)\n",
    "plt.plot(loss.reshape(epochs))\n",
    "plt.title('1Layer Model Loss')\n",
    "plt.xlabel(\"epoch\")\n",
    "plt.ylabel(\"loss\")"
   ]
  },
  {
   "cell_type": "code",
   "execution_count": 8,
   "metadata": {},
   "outputs": [
    {
     "name": "stdout",
     "output_type": "stream",
     "text": [
      "input:  [1 1] , answer:  0 , pred: 0.5263\n",
      "input:  [1 0] , answer:  1 , pred: 0.5263\n",
      "input:  [0 1] , answer:  1 , pred: 0.5000\n",
      "input:  [0 0] , answer:  0 , pred: 0.5000\n"
     ]
    }
   ],
   "source": [
    "#-----------------------------------#\n",
    "#--------- Testing Step ------------#\n",
    "#-----------------------------------#\n",
    "\n",
    "for idx in range(4):\n",
    "    xin = train_inp[idx]\n",
    "    ans = train_out[idx]\n",
    "    \n",
    "    out_y = sigmoid(np.matmul(xin,W1)+b1)\n",
    "\n",
    "    pred = out_y\n",
    "    \n",
    "    print(\"input: \", xin, \", answer: \", ans, \", pred: {:.4f}\".format(float(pred)))\n",
    "    "
   ]
  },
  {
   "cell_type": "code",
   "execution_count": 9,
   "metadata": {},
   "outputs": [],
   "source": [
    "#-----------------------------------#\n",
    "#--------- Weight Saving -----------#\n",
    "#-----------------------------------#\n",
    "\n",
    "#layer 1개인 경우 weight와 bias 저장\n",
    "np.savetxt(\"20161147_layer1_weight.txt\",(W1, b1),fmt=\"%s\")"
   ]
  },
  {
   "cell_type": "markdown",
   "metadata": {},
   "source": [
    "# 2-layer 학습"
   ]
  },
  {
   "cell_type": "code",
   "execution_count": 10,
   "metadata": {},
   "outputs": [],
   "source": [
    "# Weight Setting\n",
    "# 학습에 사용되는 Weigth 들의 초기값을 선언\n",
    "\n",
    "np.random.seed(20161147)\n",
    "\n",
    "W1 = np.random.randn(2,3)\n",
    "W2 = np.random.randn(3,1)\n",
    "b1 = np.random.randn(1,3)\n",
    "b2 = np.random.randn(1,1)"
   ]
  },
  {
   "cell_type": "code",
   "execution_count": 11,
   "metadata": {
    "scrolled": false
   },
   "outputs": [
    {
     "name": "stdout",
     "output_type": "stream",
     "text": [
      "epoch[0/10000] loss: 0.6668\n",
      "epoch[1000/10000] loss: 0.1516\n",
      "epoch[2000/10000] loss: 0.0334\n",
      "epoch[3000/10000] loss: 0.0183\n",
      "epoch[4000/10000] loss: 0.0137\n",
      "epoch[5000/10000] loss: 0.0108\n",
      "epoch[6000/10000] loss: 0.0104\n",
      "epoch[7000/10000] loss: 0.0074\n",
      "epoch[8000/10000] loss: 0.0064\n",
      "epoch[9000/10000] loss: 0.0056\n"
     ]
    }
   ],
   "source": [
    "# ----------------------------------- #\n",
    "# --------- Training Step ----------- #\n",
    "# ----------------------------------- #\n",
    "# 학습이 시작됩니다.\n",
    "# epoch 사이즈만큼 for 문을 통해 학습됩니다.\n",
    "# 빈 칸을 채워 Weight과 bias를 학습하는 신경망을 설계하세요.\n",
    "# 양식의 모든 내용을 무조건 따를 필요는 없습니다. 각자에게 편하게 수정하셔도 좋습니다.\n",
    "\n",
    "errors = []\n",
    "\n",
    "for epoch in range(epochs):\n",
    "        \n",
    "    # 데이터 4가지 중 랜덤으로 하나 선택\n",
    "    loss = 0\n",
    "    for batch in range(4):\n",
    "        idx = random.randint(0,3)\n",
    "#         idx = batch\n",
    "\n",
    "        # 입력 데이터 xin과 해당하는 정답 ans 불러오기\n",
    "        xin = train_inp[idx].reshape(1,2)\n",
    "        ans = train_out[idx]\n",
    "        \n",
    "        # Layer에 맞는 Forward Network 구성\n",
    "        ## hidden neuron 구성\n",
    "        net_h = xin.dot(W1)+b1\n",
    "        out_h = sigmoid(net_h)\n",
    "        \n",
    "        ## hidden neuron을 통한 예측치 구성\n",
    "        net_y = out_h.dot(W2)+b2\n",
    "        out_y = sigmoid(net_y)\n",
    "\n",
    "        # Binary Corss Entropy(BCE)로 loss 계산\n",
    "        J = -np.log((out_y**ans) * (1-out_y)**(1-ans))[0,0]\n",
    "        loss += J     \n",
    "        \n",
    "        # Back propagation을 통한 Weight의 Gradient update step\n",
    "#         delta_W1 = (-(ans - out_y)*out_y*(1-out_y)*W2*(out_h*(1-out_h)).T*xin).T\n",
    "#         delta_W2 = (-(ans - out_y)*out_y*(1-out_y)*out_h).T\n",
    "#         delta_b1 = (-(ans - out_y)*out_y*(1-out_y)*W2*(out_h*(1-out_h)).T).T\n",
    "#         delta_b2 = (-(ans - out_y)*out_y*(1-out_y)).T\n",
    "        \n",
    "        delta_W1 = ((-( ans*(1-out_y)-(1-ans)*out_y ).dot(W2.T)*out_h*(1-out_h)).T.dot(xin)).T\n",
    "        delta_W2 = (-( ans*(1-out_y)-(1-ans)*out_y ).T.dot(out_h)).T\n",
    "        delta_b1 = -( ans*(1-out_y)-(1-ans)*out_y ).dot(W2.T)*out_h*(1-out_h)\n",
    "        delta_b2 = -( ans*(1-out_y)-(1-ans)*out_y )\n",
    "        \n",
    "\n",
    "    \n",
    "        # 각 weight의 update 반영\n",
    "        W1 = W1 - learning_rate * delta_W1\n",
    "        W2 = W2 - learning_rate * delta_W2\n",
    "\n",
    "        b1 = b1 - learning_rate * delta_b1\n",
    "        b2 = b2 - learning_rate * delta_b2\n",
    "        \n",
    "        \n",
    "        ## 1000번째 epoch마다 loss를 프린트 합니다.\n",
    "    if epoch%1000 == 0:\n",
    "        print(\"epoch[{}/{}] loss: {:.4f}\".format(epoch,epochs,float(loss)))\n",
    "        \n",
    "\n",
    "    errors.append(loss)\n"
   ]
  },
  {
   "cell_type": "code",
   "execution_count": 12,
   "metadata": {},
   "outputs": [
    {
     "data": {
      "text/plain": [
       "Text(0, 0.5, 'loss')"
      ]
     },
     "execution_count": 12,
     "metadata": {},
     "output_type": "execute_result"
    },
    {
     "data": {
      "image/png": "[encoded data removed]",
      "text/plain": [
       "<Figure size 432x288 with 1 Axes>"
      ]
     },
     "metadata": {
      "needs_background": "light"
     },
     "output_type": "display_data"
    }
   ],
   "source": [
    "## 학습이 끝난 후, loss를 확인합니다.\n",
    "loss =  np.array(errors)\n",
    "plt.plot(loss.reshape(epochs))\n",
    "plt.title('2Layers Model Loss')\n",
    "plt.xlabel(\"epoch\")\n",
    "plt.ylabel(\"loss\")"
   ]
  },
  {
   "cell_type": "code",
   "execution_count": 13,
   "metadata": {},
   "outputs": [
    {
     "name": "stdout",
     "output_type": "stream",
     "text": [
      "input:  [1 1] , answer:  0 , pred: 0.0019\n",
      "input:  [1 0] , answer:  1 , pred: 0.9989\n",
      "input:  [0 1] , answer:  1 , pred: 0.9990\n",
      "input:  [0 0] , answer:  0 , pred: 0.0010\n"
     ]
    }
   ],
   "source": [
    "#-----------------------------------#\n",
    "#--------- Testing Step ------------#\n",
    "#-----------------------------------#\n",
    "\n",
    "for idx in range(4):\n",
    "    xin = train_inp[idx]\n",
    "    ans = train_out[idx]\n",
    "    \n",
    "    x1 = sigmoid(np.matmul(xin,W1)+b1)\n",
    "    x2 = sigmoid(np.matmul(x1,W2)+b2)\n",
    "\n",
    "    pred = x2\n",
    "    \n",
    "    print(\"input: \", xin, \", answer: \", ans, \", pred: {:.4f}\".format(float(pred)))\n",
    "    "
   ]
  },
  {
   "cell_type": "code",
   "execution_count": 14,
   "metadata": {},
   "outputs": [],
   "source": [
    "#-----------------------------------#\n",
    "#--------- Weight Saving -----------#\n",
    "#-----------------------------------#\n",
    "\n",
    "#layer 2개인 경우 weight와 bias 저장\n",
    "np.savetxt(\"20161147_layer2_weight.txt\",(W1, W2, b1, b2),fmt=\"%s\")"
   ]
  }
 ],
 "metadata": {
  "kernelspec": {
   "display_name": "Python 3",
   "language": "python",
   "name": "python3"
  },
  "language_info": {
   "codemirror_mode": {
    "name": "ipython",
    "version": 3
   },
   "file_extension": ".py",
   "mimetype": "text/x-python",
   "name": "python",
   "nbconvert_exporter": "python",
   "pygments_lexer": "ipython3",
   "version": "3.7.6"
  }
 },
 "nbformat": 4,
 "nbformat_minor": 4
}
