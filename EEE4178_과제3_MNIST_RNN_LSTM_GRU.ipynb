{
 "cells": [
  {
   "cell_type": "code",
   "execution_count": 49,
   "metadata": {
    "id": "3LkMqtdnMiPo"
   },
   "outputs": [],
   "source": [
    "import torch"
   ]
  },
  {
   "cell_type": "markdown",
   "metadata": {
    "id": "O2GEqhHb1fde"
   },
   "source": [
    "# 0. Hyper Parameters"
   ]
  },
  {
   "cell_type": "code",
   "execution_count": 50,
   "metadata": {
    "id": "wREFobk7w2oB"
   },
   "outputs": [],
   "source": [
    "device = torch.device('cuda' if torch.cuda.is_available() else 'cpu')\n",
    "\n",
    "# Hyper parameters\n",
    "sequence_length = 28\n",
    "input_size = 28\n",
    "hidden_size = 128\n",
    "num_layers = 10\n",
    "num_classes = 10\n",
    "batch_size = 100\n",
    "num_epochs = 8"
   ]
  },
  {
   "cell_type": "code",
   "execution_count": 51,
   "metadata": {
    "id": "mkPBi45xw4KK"
   },
   "outputs": [],
   "source": [
    "import torchvision\n",
    "import torchvision.transforms as transforms"
   ]
  },
  {
   "cell_type": "markdown",
   "metadata": {
    "id": "Y7n5i_KO1oal"
   },
   "source": [
    "# 1. Data Load"
   ]
  },
  {
   "cell_type": "code",
   "execution_count": 52,
   "metadata": {
    "id": "Qa3d1TAC1To_"
   },
   "outputs": [],
   "source": [
    "train_data = torchvision.datasets.MNIST(root='./datasets',\n",
    "                                        train=True,\n",
    "                                        transform=transforms.ToTensor(),\n",
    "                                        download=True)\n",
    "test_data = torchvision.datasets.MNIST(root='./datasets',\n",
    "                                        train=False,\n",
    "                                        transform=transforms.ToTensor(),\n",
    "                                        download=True)"
   ]
  },
  {
   "cell_type": "markdown",
   "metadata": {
    "id": "kwW8sEaw1vc2"
   },
   "source": [
    "# 2. Define Dataloader"
   ]
  },
  {
   "cell_type": "code",
   "execution_count": 53,
   "metadata": {
    "id": "2fd1WxT11U_m"
   },
   "outputs": [],
   "source": [
    "train_loader = torch.utils.data.DataLoader(dataset=train_data,\n",
    "                                           batch_size=batch_size,\n",
    "                                           shuffle=True)\n",
    "\n",
    "test_loader = torch.utils.data.DataLoader(dataset=test_data,\n",
    "                                          batch_size=batch_size,\n",
    "                                          shuffle=False)"
   ]
  },
  {
   "cell_type": "code",
   "execution_count": 54,
   "metadata": {
    "colab": {
     "base_uri": "https://localhost:8080/"
    },
    "id": "EtVKPl3P14Az",
    "outputId": "48163f59-e584-44ad-89db-d277917bb9e3"
   },
   "outputs": [
    {
     "data": {
      "text/plain": [
       "torch.Size([100, 1, 28, 28])"
      ]
     },
     "execution_count": 54,
     "metadata": {
      "tags": []
     },
     "output_type": "execute_result"
    }
   ],
   "source": [
    "a, b = next(iter(test_loader))\n",
    "a.shape"
   ]
  },
  {
   "cell_type": "markdown",
   "metadata": {
    "id": "3SWOLub-2qBX"
   },
   "source": [
    "# 3. Define Models"
   ]
  },
  {
   "cell_type": "code",
   "execution_count": 55,
   "metadata": {
    "id": "yZi9jMVSKZXO"
   },
   "outputs": [],
   "source": [
    "import torch.nn as nn\n",
    "import torch.nn.functional as F"
   ]
  },
  {
   "cell_type": "code",
   "execution_count": 56,
   "metadata": {
    "id": "pEhCsYKx2rE9"
   },
   "outputs": [],
   "source": [
    "class Mnist(nn.Module):\n",
    "  def __init__(self, input_size, hidden_size, num_layers, num_classes, model=\"RNN\", drop_percent=0.2):\n",
    "    super(Mnist, self).__init__()\n",
    "\n",
    "    self.model = model\n",
    "    self.hidden_size = hidden_size\n",
    "    self.num_layers = num_layers\n",
    "    \n",
    "    self.rnn = nn.RNN(input_size=input_size, hidden_size=hidden_size, num_layers=num_layers, batch_first=True)\n",
    "    self.lstm = nn.LSTM(input_size=input_size, hidden_size=hidden_size, num_layers=num_layers, batch_first=True)\n",
    "    self.gru = nn.GRU(input_size=input_size, hidden_size=hidden_size, num_layers=num_layers, batch_first=True)\n",
    "    self.dropout = nn.Dropout(drop_percent)\n",
    "\n",
    "    self.fc = nn.Linear(hidden_size, num_classes)\n",
    "\n",
    "\n",
    "  def forward(self, x):\n",
    "    if self.model == \"RNN\":\n",
    "      h0 = torch.zeros(self.num_layers, x.size(0), self.hidden_size).to(device) # torch.size([2, 50, 128])\n",
    "      out, hidden = self.rnn(x, h0)\n",
    "    elif self.model == \"LSTM\":\n",
    "      h0 = torch.zeros(self.num_layers, x.size(0), self.hidden_size).to(device) # torch.size([2, 50, 128])\n",
    "      c0 = torch.zeros(self.num_layers, x.size(0), self.hidden_size).to(device) # torch.size([2, 50, 128])\n",
    "      out, (hidden, cell_state) = self.lstm(x, (h0, c0))\n",
    "      # out = self.dropout(out)\n",
    "    elif self.model == \"GRU\":\n",
    "      out, hidden = self.gru(x)\n",
    "    else:\n",
    "      print(\"choose a model in ['RNN', 'LSTM', 'GRU']\")\n",
    "      raise\n",
    "\n",
    "    # out = self.dropout(out)\n",
    "    out = self.fc(out[:,-1,:])\n",
    "    return out\n",
    "\n"
   ]
  },
  {
   "cell_type": "markdown",
   "metadata": {
    "id": "_CYRCpxIKdVc"
   },
   "source": [
    "# 4-1. RNN Model Set Loss / Optimizer"
   ]
  },
  {
   "cell_type": "code",
   "execution_count": 57,
   "metadata": {
    "id": "z9yiYmQlJqPl"
   },
   "outputs": [],
   "source": [
    "learning_rate = 0.0001\n",
    "\n",
    "rnn = Mnist(input_size, hidden_size, num_layers, num_classes, model='RNN').to(device)\n",
    "criterion = nn.CrossEntropyLoss()\n",
    "optimizer = torch.optim.Adam(rnn.parameters(), lr=learning_rate)"
   ]
  },
  {
   "cell_type": "markdown",
   "metadata": {
    "id": "BVCx4vniRU2U"
   },
   "source": [
    "# 5-1. RNN Train"
   ]
  },
  {
   "cell_type": "code",
   "execution_count": 58,
   "metadata": {
    "colab": {
     "base_uri": "https://localhost:8080/"
    },
    "id": "cCN3X7mURPL-",
    "outputId": "bc77f1af-7b6d-4b8a-8919-b5ca84259983"
   },
   "outputs": [
    {
     "name": "stdout",
     "output_type": "stream",
     "text": [
      "Epoch [1/8], Step[400/600], Loss:0.3970\n",
      "Epoch [1/8], Step[600/600], Loss:0.2683\n",
      "Epoch [2/8], Step[400/600], Loss:0.1387\n",
      "Epoch [2/8], Step[600/600], Loss:0.1556\n",
      "Epoch [3/8], Step[400/600], Loss:0.1144\n",
      "Epoch [3/8], Step[600/600], Loss:0.0453\n",
      "Epoch [4/8], Step[400/600], Loss:0.0736\n",
      "Epoch [4/8], Step[600/600], Loss:0.1011\n",
      "Epoch [5/8], Step[400/600], Loss:0.0828\n",
      "Epoch [5/8], Step[600/600], Loss:0.1495\n",
      "Epoch [6/8], Step[400/600], Loss:0.0540\n",
      "Epoch [6/8], Step[600/600], Loss:0.0636\n",
      "Epoch [7/8], Step[400/600], Loss:0.1969\n",
      "Epoch [7/8], Step[600/600], Loss:0.0939\n",
      "Epoch [8/8], Step[400/600], Loss:0.0451\n",
      "Epoch [8/8], Step[600/600], Loss:0.0692\n"
     ]
    }
   ],
   "source": [
    "# RNN\n",
    "\n",
    "####### Train #######\n",
    "total_step = len(train_loader)\n",
    "for epoch in range(num_epochs):\n",
    "  for i, (image, label) in enumerate(train_loader):\n",
    "    image = image.reshape(-1, sequence_length, input_size).to(device)\n",
    "    label = label.to(device)\n",
    "\n",
    "    # Forward\n",
    "    output = rnn(image)\n",
    "    loss = criterion(output, label)\n",
    "\n",
    "    # Backward and optimize\n",
    "    optimizer.zero_grad()\n",
    "    loss.backward()\n",
    "    optimizer.step()\n",
    "\n",
    "    if (i+1) % 400 == 0 or (i+1) == total_step:\n",
    "      print(f\"Epoch [{epoch+1}/{num_epochs}], Step[{i+1}/{total_step}], Loss:{loss.item():.4f}\")"
   ]
  },
  {
   "cell_type": "markdown",
   "metadata": {
    "id": "wksrvJmspoYY"
   },
   "source": [
    "# 6-1. RNN Test"
   ]
  },
  {
   "cell_type": "code",
   "execution_count": 59,
   "metadata": {
    "colab": {
     "base_uri": "https://localhost:8080/"
    },
    "id": "J076_GX-agux",
    "outputId": "ca9ab7d2-c4c8-438d-8506-fa0d3b839d0d"
   },
   "outputs": [
    {
     "name": "stdout",
     "output_type": "stream",
     "text": [
      "Test Accuracy of RNN model on the 10000 test images: 97.91%\n"
     ]
    }
   ],
   "source": [
    "######## TEST ########\n",
    "with torch.no_grad():\n",
    "  correct = 0\n",
    "\n",
    "  for image, label in test_loader:\n",
    "    image = image.reshape(-1, sequence_length, input_size).to(device)\n",
    "    label = label.to(device)\n",
    "    output = rnn(image)\n",
    "    _, pred = torch.max(output.data, 1)\n",
    "    correct += (pred == label).sum().item()\n",
    "\n",
    "  print(f'Test Accuracy of {rnn.model} model on the {len(test_data)} test images: {100 * correct / len(test_data)}%')"
   ]
  },
  {
   "cell_type": "markdown",
   "metadata": {
    "id": "D7nDwyoMsgLx"
   },
   "source": [
    "# 4-2. LSTM Model Set Loss / Optimizer"
   ]
  },
  {
   "cell_type": "code",
   "execution_count": 60,
   "metadata": {
    "id": "3fkoah8tsffw"
   },
   "outputs": [],
   "source": [
    "learning_rate = 0.0002\n",
    "\n",
    "lstm = Mnist(input_size, hidden_size, num_layers, num_classes, model='LSTM').to(device)\n",
    "criterion = nn.CrossEntropyLoss()\n",
    "optimizer = torch.optim.Adam(lstm.parameters(), lr=learning_rate)"
   ]
  },
  {
   "cell_type": "markdown",
   "metadata": {
    "id": "JAV2H0UMsqOg"
   },
   "source": [
    "# 5-2 LSTM Train"
   ]
  },
  {
   "cell_type": "code",
   "execution_count": 61,
   "metadata": {
    "colab": {
     "base_uri": "https://localhost:8080/"
    },
    "id": "nEk-Dw3Ysphv",
    "outputId": "3b0487a4-a8c7-4361-a5cc-8499678032a4"
   },
   "outputs": [
    {
     "name": "stdout",
     "output_type": "stream",
     "text": [
      "Epoch [1/8], Step[400/600], Loss:0.8035\n",
      "Epoch [1/8], Step[600/600], Loss:0.5112\n",
      "Epoch [2/8], Step[400/600], Loss:0.2986\n",
      "Epoch [2/8], Step[600/600], Loss:0.1427\n",
      "Epoch [3/8], Step[400/600], Loss:0.1825\n",
      "Epoch [3/8], Step[600/600], Loss:0.2486\n",
      "Epoch [4/8], Step[400/600], Loss:0.1815\n",
      "Epoch [4/8], Step[600/600], Loss:0.1275\n",
      "Epoch [5/8], Step[400/600], Loss:0.0421\n",
      "Epoch [5/8], Step[600/600], Loss:0.1701\n",
      "Epoch [6/8], Step[400/600], Loss:0.0932\n",
      "Epoch [6/8], Step[600/600], Loss:0.1385\n",
      "Epoch [7/8], Step[400/600], Loss:0.0547\n",
      "Epoch [7/8], Step[600/600], Loss:0.1600\n",
      "Epoch [8/8], Step[400/600], Loss:0.1150\n",
      "Epoch [8/8], Step[600/600], Loss:0.0661\n"
     ]
    }
   ],
   "source": [
    "# LSTM\n",
    "\n",
    "####### Train #######\n",
    "total_step = len(train_loader)\n",
    "for epoch in range(num_epochs):\n",
    "  for i, (image, label) in enumerate(train_loader):\n",
    "    image = image.reshape(-1, sequence_length, input_size).to(device)\n",
    "    label = label.to(device)\n",
    "\n",
    "    # Forward\n",
    "    output = lstm(image)\n",
    "    loss = criterion(output, label)\n",
    "\n",
    "    # Backward and optimize\n",
    "    optimizer.zero_grad()\n",
    "    loss.backward()\n",
    "    optimizer.step()\n",
    "\n",
    "    if (i+1) % 400 == 0 or (i+1) == total_step:\n",
    "      print(f\"Epoch [{epoch+1}/{num_epochs}], Step[{i+1}/{total_step}], Loss:{loss.item():.4f}\")"
   ]
  },
  {
   "cell_type": "markdown",
   "metadata": {
    "id": "7l0i2JNqp5FV"
   },
   "source": [
    "# 6-2. LSTM Test"
   ]
  },
  {
   "cell_type": "code",
   "execution_count": 62,
   "metadata": {
    "colab": {
     "base_uri": "https://localhost:8080/"
    },
    "id": "HE0bwdrIqJcb",
    "outputId": "2f6417e1-cf69-4fb1-b9ee-00112b5e73db"
   },
   "outputs": [
    {
     "name": "stdout",
     "output_type": "stream",
     "text": [
      "Test Accuracy of LSTM model on the 10000 test images: 97.7%\n"
     ]
    }
   ],
   "source": [
    "######## TEST ########\n",
    "with torch.no_grad():\n",
    "  correct = 0\n",
    "\n",
    "  for image, label in test_loader:\n",
    "    image = image.reshape(-1, sequence_length, input_size).to(device)\n",
    "    label = label.to(device)\n",
    "    output = lstm(image)\n",
    "    _, pred = torch.max(output.data, 1)\n",
    "    correct += (pred == label).sum().item()\n",
    "\n",
    "  print(f'Test Accuracy of {lstm.model} model on the {len(test_data)} test images: {100 * correct / len(test_data)}%')"
   ]
  },
  {
   "cell_type": "markdown",
   "metadata": {
    "id": "etXBLtmQuSIl"
   },
   "source": [
    "# 4-3. GRU Model Set Loss / Optimizer"
   ]
  },
  {
   "cell_type": "code",
   "execution_count": 63,
   "metadata": {
    "id": "z2uPOiRVuRmg"
   },
   "outputs": [],
   "source": [
    "learning_rate = 0.0001\n",
    "\n",
    "gru = Mnist(input_size, hidden_size, num_layers, num_classes, model='GRU').to(device)\n",
    "criterion = nn.CrossEntropyLoss()\n",
    "optimizer = torch.optim.Adam(gru.parameters(), lr=learning_rate)"
   ]
  },
  {
   "cell_type": "markdown",
   "metadata": {
    "id": "nozRRf6fuZYu"
   },
   "source": [
    "# 5-3. GRU Train"
   ]
  },
  {
   "cell_type": "code",
   "execution_count": 64,
   "metadata": {
    "colab": {
     "base_uri": "https://localhost:8080/"
    },
    "id": "h-DXw7M9uZxO",
    "outputId": "7bc07b10-d344-4f95-d71d-20e4b987b834"
   },
   "outputs": [
    {
     "name": "stdout",
     "output_type": "stream",
     "text": [
      "Epoch [1/8], Step[400/600], Loss:0.6124\n",
      "Epoch [1/8], Step[600/600], Loss:0.4126\n",
      "Epoch [2/8], Step[400/600], Loss:0.2633\n",
      "Epoch [2/8], Step[600/600], Loss:0.2179\n",
      "Epoch [3/8], Step[400/600], Loss:0.1759\n",
      "Epoch [3/8], Step[600/600], Loss:0.0791\n",
      "Epoch [4/8], Step[400/600], Loss:0.1760\n",
      "Epoch [4/8], Step[600/600], Loss:0.1398\n",
      "Epoch [5/8], Step[400/600], Loss:0.0949\n",
      "Epoch [5/8], Step[600/600], Loss:0.0858\n",
      "Epoch [6/8], Step[400/600], Loss:0.0325\n",
      "Epoch [6/8], Step[600/600], Loss:0.0635\n",
      "Epoch [7/8], Step[400/600], Loss:0.0232\n",
      "Epoch [7/8], Step[600/600], Loss:0.0979\n",
      "Epoch [8/8], Step[400/600], Loss:0.0703\n",
      "Epoch [8/8], Step[600/600], Loss:0.0300\n"
     ]
    }
   ],
   "source": [
    "# GRU\n",
    "\n",
    "####### Train #######\n",
    "total_step = len(train_loader)\n",
    "for epoch in range(num_epochs):\n",
    "  for i, (image, label) in enumerate(train_loader):\n",
    "    image = image.reshape(-1, sequence_length, input_size).to(device)\n",
    "    label = label.to(device)\n",
    "\n",
    "    # Forward\n",
    "    output = gru(image)\n",
    "    loss = criterion(output, label)\n",
    "\n",
    "    # Backward and optimize\n",
    "    optimizer.zero_grad()\n",
    "    loss.backward()\n",
    "    optimizer.step()\n",
    "\n",
    "    if (i+1) % 400 == 0 or (i+1) == total_step:\n",
    "      print(f\"Epoch [{epoch+1}/{num_epochs}], Step[{i+1}/{total_step}], Loss:{loss.item():.4f}\")"
   ]
  },
  {
   "cell_type": "markdown",
   "metadata": {
    "id": "S6Yl0Fu6uhSd"
   },
   "source": [
    "# 6-3. GRU Test"
   ]
  },
  {
   "cell_type": "code",
   "execution_count": 65,
   "metadata": {
    "colab": {
     "base_uri": "https://localhost:8080/"
    },
    "id": "Ls3nhUbguhFt",
    "outputId": "5bbf0c4c-5570-432b-9ae1-dc0d47e68018"
   },
   "outputs": [
    {
     "name": "stdout",
     "output_type": "stream",
     "text": [
      "Test Accuracy of GRU model on the 10000 test images: 97.65%\n"
     ]
    }
   ],
   "source": [
    "######## TEST ########\n",
    "with torch.no_grad():\n",
    "  correct = 0\n",
    "\n",
    "  for image, label in test_loader:\n",
    "    image = image.reshape(-1, sequence_length, input_size).to(device)\n",
    "    label = label.to(device)\n",
    "    output = gru(image)\n",
    "    _, pred = torch.max(output.data, 1)\n",
    "    correct += (pred == label).sum().item()\n",
    "\n",
    "  print(f'Test Accuracy of {gru.model} model on the {len(test_data)} test images: {100 * correct / len(test_data)}%')"
   ]
  },
  {
   "cell_type": "markdown",
   "metadata": {
    "id": "8eKublzY67u6"
   },
   "source": [
    "# 7. Save Model"
   ]
  },
  {
   "cell_type": "code",
   "execution_count": 66,
   "metadata": {
    "id": "NJZZaMQ167J7"
   },
   "outputs": [],
   "source": [
    "torch.save(rnn.state_dict(), 'rnn.pth')\n",
    "torch.save(lstm.state_dict(), 'lstm.pth')\n",
    "torch.save(gru.state_dict(), 'gru.pth')"
   ]
  },
  {
   "cell_type": "markdown",
   "metadata": {
    "id": "JFEiDWWPDMO2"
   },
   "source": [
    "# 8. Load Model and Test All"
   ]
  },
  {
   "cell_type": "code",
   "execution_count": 69,
   "metadata": {
    "colab": {
     "base_uri": "https://localhost:8080/"
    },
    "id": "iY-L0vn0CXCd",
    "outputId": "bf6bb6e3-6924-4a87-c727-2a69cf0b4e10"
   },
   "outputs": [
    {
     "data": {
      "text/plain": [
       "<All keys matched successfully>"
      ]
     },
     "execution_count": 69,
     "metadata": {
      "tags": []
     },
     "output_type": "execute_result"
    }
   ],
   "source": [
    "model1 = Mnist(input_size, hidden_size, num_layers, num_classes, model='RNN').to(device)\n",
    "model1.load_state_dict(torch.load(\"rnn.pth\"))\n",
    "\n",
    "model2 = Mnist(input_size, hidden_size, num_layers, num_classes, model='LSTM').to(device)\n",
    "model2.load_state_dict(torch.load(\"lstm.pth\"))\n",
    "\n",
    "model3 = Mnist(input_size, hidden_size, num_layers, num_classes, model='GRU').to(device)\n",
    "model3.load_state_dict(torch.load(\"gru.pth\"))"
   ]
  },
  {
   "cell_type": "code",
   "execution_count": 70,
   "metadata": {
    "colab": {
     "base_uri": "https://localhost:8080/"
    },
    "id": "HFU9PMyGC22O",
    "outputId": "07c3dd2a-fdeb-4d64-ea17-cb4bfe8669c2"
   },
   "outputs": [
    {
     "name": "stdout",
     "output_type": "stream",
     "text": [
      "Test Accuracy of RNN model on the 10000 test images: 97.92%\n",
      "Test Accuracy of LSTM model on the 10000 test images: 97.67%\n",
      "Test Accuracy of GRU model on the 10000 test images: 97.91%\n"
     ]
    }
   ],
   "source": [
    "######## TEST ########\n",
    "with torch.no_grad():\n",
    "  correct = 0\n",
    "\n",
    "  for image, label in test_loader:\n",
    "    image = image.reshape(-1, sequence_length, input_size).to(device)\n",
    "    label = label.to(device)\n",
    "    output = model1(image)\n",
    "    _, pred = torch.max(output.data, 1)\n",
    "    correct += (pred == label).sum().item()\n",
    "\n",
    "  print(f'Test Accuracy of {model1.model} model on the {len(test_data)} test images: {100 * correct / len(test_data)}%')\n",
    "\n",
    "######## TEST ########\n",
    "with torch.no_grad():\n",
    "  correct = 0\n",
    "\n",
    "  for image, label in test_loader:\n",
    "    image = image.reshape(-1, sequence_length, input_size).to(device)\n",
    "    label = label.to(device)\n",
    "    output = model2(image)\n",
    "    _, pred = torch.max(output.data, 1)\n",
    "    correct += (pred == label).sum().item()\n",
    "\n",
    "  print(f'Test Accuracy of {model2.model} model on the {len(test_data)} test images: {100 * correct / len(test_data)}%')\n",
    "\n",
    "######## TEST ########\n",
    "with torch.no_grad():\n",
    "  correct = 0\n",
    "\n",
    "  for image, label in test_loader:\n",
    "    image = image.reshape(-1, sequence_length, input_size).to(device)\n",
    "    label = label.to(device)\n",
    "    output = model3(image)\n",
    "    _, pred = torch.max(output.data, 1)\n",
    "    correct += (pred == label).sum().item()\n",
    "\n",
    "  print(f'Test Accuracy of {model3.model} model on the {len(test_data)} test images: {100 * correct / len(test_data)}%')"
   ]
  }
 ],
 "metadata": {
  "accelerator": "GPU",
  "colab": {
   "collapsed_sections": [],
   "name": "HW3_20161147.ipynb",
   "provenance": []
  },
  "kernelspec": {
   "display_name": "Python 3",
   "language": "python",
   "name": "python3"
  },
  "language_info": {
   "codemirror_mode": {
    "name": "ipython",
    "version": 3
   },
   "file_extension": ".py",
   "mimetype": "text/x-python",
   "name": "python",
   "nbconvert_exporter": "python",
   "pygments_lexer": "ipython3",
   "version": "3.7.6"
  }
 },
 "nbformat": 4,
 "nbformat_minor": 1
}
